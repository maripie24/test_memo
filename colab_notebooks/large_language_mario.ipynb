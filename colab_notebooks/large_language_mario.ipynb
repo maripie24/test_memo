{
  "cells": [
    {
      "cell_type": "markdown",
      "metadata": {
        "id": "view-in-github",
        "colab_type": "text"
      },
      "source": [
        "<a href=\"https://colab.research.google.com/github/maripie24/test_memo/blob/main/colab_notebooks/large_language_mario.ipynb\" target=\"_parent\"><img src=\"https://colab.research.google.com/assets/colab-badge.svg\" alt=\"Open In Colab\"/></a>"
      ]
    },
    {
      "cell_type": "markdown",
      "metadata": {
        "id": "7uV4DXW7Twmn"
      },
      "source": [
        "# Large Language Mario\n",
        "\n",
        "LLMを使ってマリオをプレイするチャレンジ"
      ]
    },
    {
      "cell_type": "markdown",
      "metadata": {
        "id": "sp7cIywprfIH"
      },
      "source": [
        "## 必要なライブラリのインストールとインポート\n",
        "AIマリオに必要なライブラリのインストールとインポートを行います。"
      ]
    },
    {
      "cell_type": "markdown",
      "metadata": {
        "id": "RPnAHd9WeQkz"
      },
      "source": [
        "[OpenAI Gymのマリオ用パッケージ](https://github.com/Kautenja/gym-super-mario-bros)をインストールします。強化学習の環境として使用します。詳細の仕様は[GitHub](https://github.com/Kautenja/gym-super-mario-bros)参照ください。\n"
      ]
    },
    {
      "cell_type": "code",
      "execution_count": null,
      "metadata": {
        "id": "bkd4mMOAUbt1",
        "outputId": "82ca4f4e-8ab0-4396-80b2-14baff7df637",
        "colab": {
          "base_uri": "https://localhost:8080/"
        }
      },
      "outputs": [
        {
          "output_type": "stream",
          "name": "stdout",
          "text": [
            "\u001b[?25l     \u001b[90m━━━━━━━━━━━━━━━━━━━━━━━━━━━━━━━━━━━━━━━━\u001b[0m \u001b[32m0.0/77.7 kB\u001b[0m \u001b[31m?\u001b[0m eta \u001b[36m-:--:--\u001b[0m\r\u001b[2K     \u001b[90m━━━━━━━━━━━━━━━━━━━━━━━━━━━━━━━━━━━━━━━━\u001b[0m \u001b[32m77.7/77.7 kB\u001b[0m \u001b[31m3.1 MB/s\u001b[0m eta \u001b[36m0:00:00\u001b[0m\n",
            "\u001b[?25h  Preparing metadata (setup.py) ... \u001b[?25l\u001b[?25hdone\n",
            "\u001b[2K   \u001b[90m━━━━━━━━━━━━━━━━━━━━━━━━━━━━━━━━━━━━━━━━\u001b[0m \u001b[32m198.6/198.6 kB\u001b[0m \u001b[31m8.0 MB/s\u001b[0m eta \u001b[36m0:00:00\u001b[0m\n",
            "\u001b[2K   \u001b[90m━━━━━━━━━━━━━━━━━━━━━━━━━━━━━━━━━━━━━━━━\u001b[0m \u001b[32m1.1/1.1 MB\u001b[0m \u001b[31m40.2 MB/s\u001b[0m eta \u001b[36m0:00:00\u001b[0m\n",
            "\u001b[?25h  Building wheel for nes-py (setup.py) ... \u001b[?25l\u001b[?25hdone\n"
          ]
        }
      ],
      "source": [
        "!pip install -qqq gym-super-mario-bros==7.3.0"
      ]
    },
    {
      "cell_type": "markdown",
      "metadata": {
        "id": "vtY9MC-Vq-Hv"
      },
      "source": [
        "その他、必要なライブラリをインストールします。"
      ]
    },
    {
      "cell_type": "code",
      "execution_count": null,
      "metadata": {
        "id": "zMBp7lLX5b4t"
      },
      "outputs": [],
      "source": [
        "!apt -qq update\n",
        "!apt install -y -qq xvfb\n",
        "!pip install -qqq pyvirtualdisplay"
      ]
    },
    {
      "cell_type": "markdown",
      "metadata": {
        "id": "gddw9CE-rCer"
      },
      "source": [
        "必要なライブラリをインポートします。"
      ]
    },
    {
      "cell_type": "code",
      "execution_count": null,
      "metadata": {
        "id": "2HK668vmggdk"
      },
      "outputs": [],
      "source": [
        "# Import the game\n",
        "import gym_super_mario_bros\n",
        "# Import the Joypad wrapper\n",
        "from nes_py.wrappers import JoypadSpace\n",
        "# Import the SIMPLIFIED controls\n",
        "from gym.spaces import Box\n",
        "from gym_super_mario_bros.actions import SIMPLE_MOVEMENT\n",
        "from gym_super_mario_bros.actions import COMPLEX_MOVEMENT\n",
        "from gym_super_mario_bros.actions import RIGHT_ONLY\n",
        "\n",
        "import gym\n",
        "import numpy as np\n",
        "import matplotlib.pyplot as plt\n",
        "from matplotlib.pyplot import imshow\n",
        "import cv2\n",
        "from PIL import Image\n",
        "import requests\n",
        "\n",
        "import os\n",
        "from google.colab import userdata\n",
        "import base64\n",
        "import json"
      ]
    },
    {
      "cell_type": "markdown",
      "metadata": {
        "id": "E05HX02Ab4au"
      },
      "source": [
        "## AIマリオ環境の構築\n",
        "\n",
        "AIマリオの環境構築を行います。\n",
        "\n"
      ]
    },
    {
      "cell_type": "markdown",
      "metadata": {
        "id": "kAYJDcRPiMv_"
      },
      "source": [
        "### AIマリオ環境初期化と動作確認\n",
        "環境の確認です。"
      ]
    },
    {
      "cell_type": "code",
      "source": [
        "STAGE_NAME = 'SuperMarioBros-1-1-v0'"
      ],
      "metadata": {
        "id": "MCONES3_i3Rq"
      },
      "execution_count": null,
      "outputs": []
    },
    {
      "cell_type": "code",
      "execution_count": null,
      "metadata": {
        "id": "lP3htmWUPKHL"
      },
      "outputs": [],
      "source": [
        "# マリオ1-1の環境を初期化します。\n",
        "env = gym_super_mario_bros.make(STAGE_NAME)\n",
        "\n",
        "# マリオの行動空間を設定します。\n",
        "env = JoypadSpace(env, SIMPLE_MOVEMENT)\n",
        "\n",
        "# MOVEMENT = [[\"right\"], [\"right\", \"A\"]]\n",
        "# env = JoypadSpace(env, MOVEMENT)\n",
        "# env = JoypadSpace(env, COMPLEX_MOVEMENT)\n",
        "# env = JoypadSpace(env, RIGHT_ONLY)"
      ]
    },
    {
      "cell_type": "markdown",
      "metadata": {
        "id": "ArneJLzbsOby"
      },
      "source": [
        "ステージの初期化と行動空間の設定をしています。\n",
        "\n",
        "PyTorchチュートリアルでは、以下のように2パターンに単純化した行動をするマリオに制限されています。\n",
        "\n",
        "```\n",
        "# 行動空間を以下に制限\n",
        "#   0. 右に歩く\n",
        "#   1. 右方向にジャンプ\n",
        "env = JoypadSpace(env, [[\"right\"], [\"right\", \"A\"]])\n",
        "```\n",
        "\n",
        "自分で自由に設定する他、`gym_super_mario_bros`では`SIMPLE_MOVEMENT`, `COMPLEX_MOVEMENT`といった複数のパターンが登録されています。どのようなパターンがあるかは、[gym_super_mario_brosのソースコード](https://github.com/Kautenja/gym-super-mario-bros/blob/master/gym_super_mario_bros/actions.py)を読むか、以下のように中身を`print`して確認する方法があります。\n",
        "\n",
        "L今回は`SIMPLE_MOVEMENT`を採用しています。"
      ]
    },
    {
      "cell_type": "code",
      "execution_count": null,
      "metadata": {
        "id": "R9UdQXeGxrJx"
      },
      "outputs": [],
      "source": [
        "print(SIMPLE_MOVEMENT)\n",
        "print(COMPLEX_MOVEMENT)"
      ]
    },
    {
      "cell_type": "markdown",
      "metadata": {
        "id": "rnRXtGZZtHy6"
      },
      "source": [
        "環境をリセットして、環境を確認します。\n",
        "\n",
        "`env.step(action=0)`と、エージェント（マリオ）がアクションすると、環境から状態(`state`)と報酬(`reward`)、終了したかのフラグ(`done`)、情報(`info`)が返ってきます。"
      ]
    },
    {
      "cell_type": "code",
      "execution_count": null,
      "metadata": {
        "id": "bgewUGcHtIWj"
      },
      "outputs": [],
      "source": [
        "env.reset()\n",
        "state, reward, done, info = env.step(action=0)\n",
        "\n",
        "print('state:', state.shape)\n",
        "print('reward:', reward)\n",
        "print('done:', done)\n",
        "print('info:', info)"
      ]
    },
    {
      "cell_type": "markdown",
      "metadata": {
        "id": "BTAfyErJtf7Z"
      },
      "source": [
        "行動`action`の範囲や状態`state`の範囲を確認したい場合は、以下を実行してください。\n",
        "\n",
        "```python\n",
        "from gym.spaces import Box, Discrete\n",
        "def print_spaces(space):\n",
        "    print(space)\n",
        "\n",
        "    if isinstance(space, Box):\n",
        "        print('min:', space.low)\n",
        "        print('max:', space.high)\n",
        "    if isinstance(space, Discrete):\n",
        "        print('min:', 0)\n",
        "        print('max:', space.n-1)\n",
        "\n",
        "print('action space------------------')\n",
        "print_spaces(env.action_space)\n",
        "print('observation space------------------')\n",
        "print_spaces(env.observation_space)\n",
        "```"
      ]
    },
    {
      "cell_type": "markdown",
      "metadata": {
        "id": "0rfpE6Gzu17o"
      },
      "source": [
        "最後に`state`を画像として可視化してみます。\n",
        "\n",
        "マリオのプレイ画面であることを確認できます。"
      ]
    },
    {
      "cell_type": "code",
      "execution_count": null,
      "metadata": {
        "id": "OJ-fHsIRe1YF"
      },
      "outputs": [],
      "source": [
        "plt.imshow(state)"
      ]
    },
    {
      "cell_type": "markdown",
      "source": [
        "`state`は`numpy.ndarray'です。"
      ],
      "metadata": {
        "id": "rnQeXLyQg44v"
      }
    },
    {
      "cell_type": "code",
      "source": [
        "print(type(state))"
      ],
      "metadata": {
        "id": "y2ZMV3V9uHVs"
      },
      "execution_count": null,
      "outputs": []
    },
    {
      "cell_type": "markdown",
      "source": [
        "`state`を画像に変換します。"
      ],
      "metadata": {
        "id": "nEzAGZQqPr1f"
      }
    },
    {
      "cell_type": "code",
      "source": [
        "image = Image.fromarray(state)\n",
        "image.save('state.png')"
      ],
      "metadata": {
        "id": "-groX6DZMywD"
      },
      "execution_count": null,
      "outputs": []
    },
    {
      "cell_type": "markdown",
      "metadata": {
        "id": "GCsbDnPkvAja"
      },
      "source": [
        "画像も表示を確認します"
      ]
    },
    {
      "cell_type": "code",
      "source": [
        "img = Image.open('state.png')\n",
        "imshow(img)"
      ],
      "metadata": {
        "id": "Gjwo907wgwlV"
      },
      "execution_count": null,
      "outputs": []
    },
    {
      "cell_type": "markdown",
      "source": [
        "## LLMのテスト"
      ],
      "metadata": {
        "id": "MPUjdohlM8W7"
      }
    },
    {
      "cell_type": "markdown",
      "source": [
        "LLMが正しく画像を読み込んでプレイできるかテストします。\n",
        "OpenAIのライブラリをインストールします。"
      ],
      "metadata": {
        "id": "YM6s77q5NAaf"
      }
    },
    {
      "cell_type": "code",
      "source": [
        "!pip install -qqq openai"
      ],
      "metadata": {
        "id": "RwqeWrDcQQEl"
      },
      "execution_count": null,
      "outputs": []
    },
    {
      "cell_type": "markdown",
      "source": [
        "OpenAI API KEYを読み込みます。\n",
        "\n",
        "あらかじめ、Google Colabのシークレットキーとして`OPENAI_API_KEY`を設定しておいてください。シークレットキーの設定方法は以下記事など参考にしてください。\n",
        "\n",
        "\n",
        "[Google Colab のシークレット機能の使い方](https://note.com/npaka/n/n79bb63e17685)"
      ],
      "metadata": {
        "id": "bj7qUcnHNQKo"
      }
    },
    {
      "cell_type": "markdown",
      "source": [
        "LLMで画像を読み込めるようにエンコードする関数を定義します。"
      ],
      "metadata": {
        "id": "g17kvG1miw59"
      }
    },
    {
      "cell_type": "code",
      "source": [
        "def encode_image(image_path):\n",
        "    with open(image_path, \"rb\") as image_file:\n",
        "        return base64.b64encode(image_file.read()).decode('utf-8')"
      ],
      "metadata": {
        "id": "Butziddii0zn"
      },
      "execution_count": null,
      "outputs": []
    },
    {
      "cell_type": "markdown",
      "source": [
        "画像からマリオの動きを推論する関数を定義します。"
      ],
      "metadata": {
        "id": "NjZLLXFxOId5"
      }
    },
    {
      "cell_type": "code",
      "source": [
        "def predict(state):\n",
        "    # 今のマリオの状態をPNG画像として保存\n",
        "    image = Image.fromarray(state)\n",
        "    image.save('state.png')\n",
        "\n",
        "    # 画像ファイルをエンコーディング\n",
        "    image_path = \"./state.png\"\n",
        "    base64_image = encode_image(image_path)\n",
        "\n",
        "    api_key = userdata.get(\"OPENAI_API_KEY\")\n",
        "\n",
        "    # プロンプト\n",
        "    prompt = \"\"\"\n",
        "        この画像はゲーム、スーパーマリオのプレイ画面です。\n",
        "    　　 画面に応じて、以下の7つのボタン操作ができます。ボタン操作は以下の7つからどれかを選んでください\n",
        "    　　 NOOPが操作しない。Aがジャンプ。Bがダッシュです。\n",
        "\n",
        "        0 = 'NOOP'\n",
        "        1 = 'right'\n",
        "        2 = 'right', 'A'\n",
        "        3 = 'right', 'B'\n",
        "        4 = 'right', 'A', 'B'\n",
        "        5 = 'A'\n",
        "        6 = 'left'\n",
        "\n",
        "        以下の通りjson出力してください。日本語でお願いします。\n",
        "\n",
        "    　　 explanation: 画面の説明\n",
        "        reason: ボタン操作の理由\n",
        "        action: ボタン操作の種類\n",
        "    \"\"\"\n",
        "\n",
        "    headers = {\n",
        "    \"Content-Type\": \"application/json\",\n",
        "    \"Authorization\": f\"Bearer {api_key}\"\n",
        "    }\n",
        "\n",
        "    payload = {\n",
        "    \"model\": \"gpt-4o-2024-08-06\",\n",
        "    \"messages\": [\n",
        "        {\n",
        "        \"role\": \"user\",\n",
        "        \"content\": [\n",
        "            {\n",
        "            \"type\": \"text\",\n",
        "            \"text\": f\"{prompt}\"\n",
        "            },\n",
        "            {\n",
        "            \"type\": \"image_url\",\n",
        "            \"image_url\": {\n",
        "                \"url\": f\"data:image/jpeg;base64,{base64_image}\"\n",
        "            }\n",
        "            }\n",
        "        ]\n",
        "        }\n",
        "    ],\n",
        "    \"max_tokens\": 300,\n",
        "    \"temperature\": 1,\n",
        "    \"response_format\": {\n",
        "        \"type\": \"json_schema\",\n",
        "        \"json_schema\": {\n",
        "        \"name\": \"mario_action\",\n",
        "        \"schema\": {\n",
        "            \"type\": \"object\",\n",
        "            \"properties\": {\n",
        "            \"explanation\": {\n",
        "                \"type\": \"string\",\n",
        "            },\n",
        "            \"reason\": {\n",
        "                \"type\": \"string\",\n",
        "            },\n",
        "            \"action\": {\n",
        "                \"type\": \"integer\"\n",
        "            }\n",
        "            },\n",
        "            \"required\": [\"explanation\", \"reason\", \"action\"],\n",
        "        }\n",
        "        }\n",
        "    }\n",
        "    }\n",
        "\n",
        "    response = requests.post(\"https://api.openai.com/v1/chat/completions\", headers=headers, json=payload)\n",
        "\n",
        "    content_dict = json.loads(response.json().get('choices')[0].get('message').get('content'))\n",
        "\n",
        "    action = content_dict.get('action')\n",
        "    explanation = content_dict.get('explanation')\n",
        "    reason = content_dict.get('reason')\n",
        "\n",
        "    if action == None:\n",
        "        action = 0\n",
        "\n",
        "\n",
        "    return action, explanation, reason"
      ],
      "metadata": {
        "id": "q5KOCpBbybHx"
      },
      "execution_count": null,
      "outputs": []
    },
    {
      "cell_type": "markdown",
      "source": [
        "推論する関数をテストします。"
      ],
      "metadata": {
        "id": "2FV5oR3pjAVY"
      }
    },
    {
      "cell_type": "code",
      "source": [
        "action, explanation, reason = predict(state)"
      ],
      "metadata": {
        "id": "L7QCjFe3mIuT"
      },
      "execution_count": null,
      "outputs": []
    },
    {
      "cell_type": "markdown",
      "source": [
        "アクションを確認します。右に進む（`1`）かダッシュして右に進む（`2`）になっていることを確認します。"
      ],
      "metadata": {
        "id": "wE1GzOPojcrN"
      }
    },
    {
      "cell_type": "code",
      "source": [
        "action"
      ],
      "metadata": {
        "id": "k0gXFm1ijeVM"
      },
      "execution_count": null,
      "outputs": []
    },
    {
      "cell_type": "markdown",
      "source": [
        "マリオの状況判断（画像の説明）を確認します"
      ],
      "metadata": {
        "id": "CYmmghUukm55"
      }
    },
    {
      "cell_type": "code",
      "source": [
        "explanation"
      ],
      "metadata": {
        "id": "Ir3ePLc6koub"
      },
      "execution_count": null,
      "outputs": []
    },
    {
      "cell_type": "markdown",
      "source": [
        "行動の理由を確認します"
      ],
      "metadata": {
        "id": "wZROLsofqFLj"
      }
    },
    {
      "cell_type": "code",
      "source": [
        "reason"
      ],
      "metadata": {
        "id": "wRSO6nCvlHIG"
      },
      "execution_count": null,
      "outputs": []
    },
    {
      "cell_type": "markdown",
      "metadata": {
        "id": "gox1d_Nqir7z"
      },
      "source": [
        "## AIマリオのテスト\n",
        "\n",
        "AIモデルをテストします。"
      ]
    },
    {
      "cell_type": "markdown",
      "metadata": {
        "id": "M_5QHVsKFsn0"
      },
      "source": [
        "テスト回数等を設定します。"
      ]
    },
    {
      "cell_type": "code",
      "execution_count": null,
      "metadata": {
        "id": "CdUGVdTzFqPm"
      },
      "outputs": [],
      "source": [
        "EPISODE_NUMBERS = 1\n",
        "MAX_TIMESTEP_TEST = 1000\n",
        "SKIP_RATE = 10"
      ]
    },
    {
      "cell_type": "code",
      "execution_count": null,
      "metadata": {
        "id": "BUtzYd9w-oCR"
      },
      "outputs": [],
      "source": [
        "import copy\n",
        "\n",
        "total_reward = [0] * EPISODE_NUMBERS\n",
        "total_time = [0] * EPISODE_NUMBERS\n",
        "best_reward = 0\n",
        "frames_best = []\n",
        "\n",
        "for i in range(EPISODE_NUMBERS):\n",
        "    state = env.reset()  # reset for each new trial\n",
        "    done = False\n",
        "    total_reward[i] = 0.0\n",
        "    total_time[i] = 0\n",
        "    skip_numb = SKIP_RATE\n",
        "    frames = []\n",
        "\n",
        "    while not done and total_time[i] < MAX_TIMESTEP_TEST:\n",
        "        if skip_numb < SKIP_RATE:\n",
        "            skip_numb += 1\n",
        "        else:\n",
        "            skip_numb = 0\n",
        "            action, explanation, reason = predict(state)\n",
        "\n",
        "            plt.imshow(state)\n",
        "            plt.pause(0.001)\n",
        "\n",
        "            print(f'action: {action}')\n",
        "            print(f'explanation: {explanation}')\n",
        "            print(f'reason: {reason}')\n",
        "\n",
        "        state, reward, done, info = env.step(action)\n",
        "        total_reward[i] += reward\n",
        "        total_time[i] += 1\n",
        "        frames.append(copy.deepcopy(env.render(mode = 'rgb_array')))\n",
        "\n",
        "    if total_reward[i] > best_reward:\n",
        "        best_reward = total_reward[i]\n",
        "        frames_best = copy.deepcopy(frames)\n",
        "\n",
        "    print('test episode:', i, 'reward:', total_reward[i], 'time:', total_time[i])\n",
        "\n",
        "    # Judgement Mario goal or not\n",
        "    if info['flag_get']:\n",
        "        print(f\"<<< Mario get the flag. GOOOOOOOOOOOOOOOOOOOOOAL! >>>\")\n",
        "        break\n",
        "\n",
        "print('average reward:', (sum(total_reward) / EPISODE_NUMBERS),\n",
        "      'average time:', (sum(total_time) / EPISODE_NUMBERS),\n",
        "      'best_reward:', best_reward)"
      ]
    },
    {
      "cell_type": "markdown",
      "metadata": {
        "id": "pWtYUKEb2Vz8"
      },
      "source": [
        "`<<< Mario get the flag. GOOOOOOOOOOOOOOOOOOOOOAL! >>>`という表示ができたらクリアできています。\n",
        "\n",
        "クリアできない場合は、複数回プレイして一番良いプレイ動画が保存されます。\n",
        "\n",
        "実行のたびに結果は変わります。何回か試してみましょう。"
      ]
    },
    {
      "cell_type": "markdown",
      "metadata": {
        "id": "pMKMuMaxgGF7"
      },
      "source": [
        "## AIマリオのプレイ動画を保存・再生\n",
        "\n",
        "保存した画像ログから動画を保存・再生します。"
      ]
    },
    {
      "cell_type": "markdown",
      "metadata": {
        "id": "mgGsIOl9jVnR"
      },
      "source": [
        "画像が多いと動画生成や確認に時間がかかるため、画像を間引きます。\n",
        "\n",
        "画像を間引く割合を入力します（大きいほどたくさん間引きます）。"
      ]
    },
    {
      "cell_type": "code",
      "execution_count": null,
      "metadata": {
        "id": "e8Z_I4hFgJqw"
      },
      "outputs": [],
      "source": [
        "SKIP_RATE = 4"
      ]
    },
    {
      "cell_type": "markdown",
      "metadata": {
        "id": "YmWH8b0Ajb9P"
      },
      "source": [
        "画像を間引く処理をします。"
      ]
    },
    {
      "cell_type": "code",
      "execution_count": null,
      "metadata": {
        "id": "QIxuzQ5ngKuP"
      },
      "outputs": [],
      "source": [
        "if SKIP_RATE == 1:\n",
        "  frames_new = np.array(frames_best)\n",
        "else:\n",
        "  np_frames = np.array(frames_best)\n",
        "  frames_new = np_frames[::SKIP_RATE].tolist()"
      ]
    },
    {
      "cell_type": "markdown",
      "metadata": {
        "id": "TcXrwSawjeUD"
      },
      "source": [
        "Google Colab上で確認できる動画を生成します。生成後に再生ボタンを押すと、AIマリオのプレイ動画が見れます。"
      ]
    },
    {
      "cell_type": "code",
      "execution_count": null,
      "metadata": {
        "id": "LlhmlKSFgKzt"
      },
      "outputs": [],
      "source": [
        "import matplotlib.animation\n",
        "from IPython.display import HTML\n",
        "\n",
        "matplotlib.rcParams['animation.embed_limit'] = 2**128\n",
        "plt.figure(figsize=(frames[0].shape[1] / 72.0, frames[0].shape[0] / 72.0), dpi = 72)\n",
        "patch = plt.imshow(frames_new[0])\n",
        "plt.axis('off')\n",
        "animate = lambda i: patch.set_data(frames_new[i])\n",
        "ani = matplotlib.animation.FuncAnimation(plt.gcf(), animate, frames=len(frames_new), interval = 50)\n",
        "HTML(ani.to_jshtml())"
      ]
    },
    {
      "cell_type": "markdown",
      "metadata": {
        "id": "etQCTXKoaSjf"
      },
      "source": [
        "動画形式で保存します。"
      ]
    },
    {
      "cell_type": "code",
      "execution_count": null,
      "metadata": {
        "id": "TL_icaAQXeKn"
      },
      "outputs": [],
      "source": [
        "ani.save('ai_mario.mp4')"
      ]
    },
    {
      "cell_type": "markdown",
      "metadata": {
        "id": "km__QtDolsp3"
      },
      "source": [
        "動画ファイルをダウンロードします。"
      ]
    },
    {
      "cell_type": "code",
      "execution_count": null,
      "metadata": {
        "id": "OpN14WKrlyXx"
      },
      "outputs": [],
      "source": [
        "from google.colab import files\n",
        "files.download('ai_mario.mp4')"
      ]
    },
    {
      "cell_type": "markdown",
      "metadata": {
        "id": "on4fZsea8c4m"
      },
      "source": [
        "GIFアニメ形式で保存します。"
      ]
    },
    {
      "cell_type": "code",
      "execution_count": null,
      "metadata": {
        "id": "hxpbxskf8ASM"
      },
      "outputs": [],
      "source": [
        "import imageio\n",
        "imageio.mimsave('ai_mario.gif', [np.array(img) for i, img in enumerate(frames_best) if i%SKIP_RATE == 0], fps=15)"
      ]
    },
    {
      "cell_type": "markdown",
      "metadata": {
        "id": "fHQMe1hA8hju"
      },
      "source": [
        "GIFアニメをダウンロードします。"
      ]
    },
    {
      "cell_type": "code",
      "execution_count": null,
      "metadata": {
        "id": "56ds6rWK8FXL"
      },
      "outputs": [],
      "source": [
        "from google.colab import files\n",
        "files.download('ai_mario.gif')"
      ]
    },
    {
      "cell_type": "markdown",
      "source": [
        "## リファレンス\n",
        "\n",
        "- https://platform.openai.com/docs/guides/vision\n",
        "- https://platform.openai.com/docs/guides/structured-outputs/introduction\n",
        "- https://openai.com/index/introducing-structured-outputs-in-the-api/\n",
        "- https://qiita.com/DEmodoriGatsuO/items/4c4734b78973970e0d3d\n",
        "- https://platform.openai.com/settings/organization/billing/overview"
      ],
      "metadata": {
        "id": "vB0GCIEjidqL"
      }
    }
  ],
  "metadata": {
    "accelerator": "GPU",
    "colab": {
      "provenance": [],
      "include_colab_link": true
    },
    "kernelspec": {
      "display_name": "Python 3",
      "language": "python",
      "name": "python3"
    },
    "language_info": {
      "codemirror_mode": {
        "name": "ipython",
        "version": 3
      },
      "file_extension": ".py",
      "mimetype": "text/x-python",
      "name": "python",
      "nbconvert_exporter": "python",
      "pygments_lexer": "ipython3",
      "version": "3.6.8"
    }
  },
  "nbformat": 4,
  "nbformat_minor": 0
}